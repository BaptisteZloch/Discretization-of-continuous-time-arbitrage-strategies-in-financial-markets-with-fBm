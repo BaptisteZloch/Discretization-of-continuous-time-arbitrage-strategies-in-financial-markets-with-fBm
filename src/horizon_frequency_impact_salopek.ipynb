{
 "cells": [
  {
   "cell_type": "markdown",
   "metadata": {},
   "source": [
    "# Impact of Trading Horizon and Frequency on the Salopek Strategy"
   ]
  },
  {
   "cell_type": "code",
   "execution_count": 1,
   "metadata": {},
   "outputs": [],
   "source": [
    "import numpy.typing as npt\n",
    "import numpy as np\n",
    "from typing import Union\n",
    "from tqdm import tqdm\n",
    "import pandas as pd\n",
    "import matplotlib.pyplot as plt\n",
    "\n",
    "# own module\n",
    "from simulations.fractional_brownian import (\n",
    "    generate_brownian_path,\n",
    "    generate_n_assets_portfolio,\n",
    ")\n",
    "from backtest.backtester import Backtester\n",
    "from strategy.strategy import SalopekStrategy\n",
    "\n",
    "from utility.utils import generate_t, a_order_power_mean, transaction_cost_L"
   ]
  },
  {
   "cell_type": "markdown",
   "metadata": {},
   "source": [
    "# Horizon"
   ]
  },
  {
   "cell_type": "code",
   "execution_count": 2,
   "metadata": {},
   "outputs": [
    {
     "name": "stdout",
     "output_type": "stream",
     "text": [
      "Batch numéro : 1\n"
     ]
    },
    {
     "name": "stderr",
     "output_type": "stream",
     "text": [
      "                                                                             \r"
     ]
    },
    {
     "name": "stdout",
     "output_type": "stream",
     "text": [
      "Batch numéro : 2\n"
     ]
    },
    {
     "name": "stderr",
     "output_type": "stream",
     "text": [
      "                                                                             \r"
     ]
    },
    {
     "name": "stdout",
     "output_type": "stream",
     "text": [
      "Batch numéro : 3\n"
     ]
    },
    {
     "name": "stderr",
     "output_type": "stream",
     "text": [
      "                                                                             \r"
     ]
    },
    {
     "name": "stdout",
     "output_type": "stream",
     "text": [
      "Batch numéro : 4\n"
     ]
    },
    {
     "name": "stderr",
     "output_type": "stream",
     "text": [
      "                                                                             \r"
     ]
    },
    {
     "name": "stdout",
     "output_type": "stream",
     "text": [
      "Batch numéro : 5\n"
     ]
    },
    {
     "name": "stderr",
     "output_type": "stream",
     "text": [
      "                                                                             \r"
     ]
    },
    {
     "name": "stdout",
     "output_type": "stream",
     "text": [
      "Batch numéro : 6\n"
     ]
    },
    {
     "name": "stderr",
     "output_type": "stream",
     "text": [
      "                                                                             \r"
     ]
    },
    {
     "name": "stdout",
     "output_type": "stream",
     "text": [
      "Batch numéro : 7\n"
     ]
    },
    {
     "name": "stderr",
     "output_type": "stream",
     "text": [
      "                                                                             \r"
     ]
    },
    {
     "name": "stdout",
     "output_type": "stream",
     "text": [
      "Batch numéro : 8\n"
     ]
    },
    {
     "name": "stderr",
     "output_type": "stream",
     "text": [
      "                                                                             \r"
     ]
    },
    {
     "name": "stdout",
     "output_type": "stream",
     "text": [
      "Batch numéro : 9\n"
     ]
    },
    {
     "name": "stderr",
     "output_type": "stream",
     "text": [
      "                                                                             \r"
     ]
    },
    {
     "name": "stdout",
     "output_type": "stream",
     "text": [
      "Batch numéro : 10\n"
     ]
    },
    {
     "name": "stderr",
     "output_type": "stream",
     "text": [
      "                                                                             \r"
     ]
    },
    {
     "name": "stdout",
     "output_type": "stream",
     "text": [
      "Batch numéro : 11\n"
     ]
    },
    {
     "name": "stderr",
     "output_type": "stream",
     "text": [
      "                                                                             \r"
     ]
    },
    {
     "name": "stdout",
     "output_type": "stream",
     "text": [
      "Batch numéro : 12\n"
     ]
    },
    {
     "name": "stderr",
     "output_type": "stream",
     "text": [
      "                                                                             \r"
     ]
    },
    {
     "name": "stdout",
     "output_type": "stream",
     "text": [
      "Batch numéro : 13\n"
     ]
    },
    {
     "name": "stderr",
     "output_type": "stream",
     "text": [
      "                                                                             \r"
     ]
    },
    {
     "name": "stdout",
     "output_type": "stream",
     "text": [
      "Batch numéro : 14\n"
     ]
    },
    {
     "name": "stderr",
     "output_type": "stream",
     "text": [
      "                                                                             \r"
     ]
    },
    {
     "name": "stdout",
     "output_type": "stream",
     "text": [
      "Batch numéro : 15\n"
     ]
    },
    {
     "name": "stderr",
     "output_type": "stream",
     "text": [
      "                                                                             \r"
     ]
    },
    {
     "name": "stdout",
     "output_type": "stream",
     "text": [
      "Batch numéro : 16\n"
     ]
    },
    {
     "name": "stderr",
     "output_type": "stream",
     "text": [
      "                                                                             \r"
     ]
    },
    {
     "name": "stdout",
     "output_type": "stream",
     "text": [
      "Batch numéro : 17\n"
     ]
    },
    {
     "name": "stderr",
     "output_type": "stream",
     "text": [
      "                                                                             \r"
     ]
    },
    {
     "name": "stdout",
     "output_type": "stream",
     "text": [
      "Batch numéro : 18\n"
     ]
    },
    {
     "name": "stderr",
     "output_type": "stream",
     "text": [
      "                                                                             \r"
     ]
    },
    {
     "name": "stdout",
     "output_type": "stream",
     "text": [
      "Batch numéro : 19\n"
     ]
    },
    {
     "name": "stderr",
     "output_type": "stream",
     "text": [
      "                                                                             \r"
     ]
    },
    {
     "name": "stdout",
     "output_type": "stream",
     "text": [
      "Batch numéro : 20\n"
     ]
    },
    {
     "name": "stderr",
     "output_type": "stream",
     "text": [
      "                                                                             \r"
     ]
    },
    {
     "name": "stdout",
     "output_type": "stream",
     "text": [
      "Batch numéro : 21\n"
     ]
    },
    {
     "name": "stderr",
     "output_type": "stream",
     "text": [
      "                                                                             \r"
     ]
    },
    {
     "name": "stdout",
     "output_type": "stream",
     "text": [
      "Batch numéro : 22\n"
     ]
    },
    {
     "name": "stderr",
     "output_type": "stream",
     "text": [
      "                                                                             \r"
     ]
    },
    {
     "name": "stdout",
     "output_type": "stream",
     "text": [
      "Batch numéro : 23\n"
     ]
    },
    {
     "name": "stderr",
     "output_type": "stream",
     "text": [
      "                                                                             \r"
     ]
    },
    {
     "name": "stdout",
     "output_type": "stream",
     "text": [
      "Batch numéro : 24\n"
     ]
    },
    {
     "name": "stderr",
     "output_type": "stream",
     "text": [
      "                                                                             \r"
     ]
    },
    {
     "name": "stdout",
     "output_type": "stream",
     "text": [
      "Batch numéro : 25\n"
     ]
    },
    {
     "name": "stderr",
     "output_type": "stream",
     "text": [
      "                                                                             \r"
     ]
    },
    {
     "name": "stdout",
     "output_type": "stream",
     "text": [
      "Batch numéro : 26\n"
     ]
    },
    {
     "name": "stderr",
     "output_type": "stream",
     "text": [
      "                                                                             \r"
     ]
    },
    {
     "name": "stdout",
     "output_type": "stream",
     "text": [
      "Batch numéro : 27\n"
     ]
    },
    {
     "name": "stderr",
     "output_type": "stream",
     "text": [
      "                                                                             \r"
     ]
    },
    {
     "name": "stdout",
     "output_type": "stream",
     "text": [
      "Batch numéro : 28\n"
     ]
    },
    {
     "name": "stderr",
     "output_type": "stream",
     "text": [
      "                                                                             \r"
     ]
    },
    {
     "name": "stdout",
     "output_type": "stream",
     "text": [
      "Batch numéro : 29\n"
     ]
    },
    {
     "name": "stderr",
     "output_type": "stream",
     "text": [
      "                                                                             \r"
     ]
    },
    {
     "name": "stdout",
     "output_type": "stream",
     "text": [
      "Batch numéro : 30\n"
     ]
    },
    {
     "name": "stderr",
     "output_type": "stream",
     "text": [
      "                                                                             \r"
     ]
    },
    {
     "name": "stdout",
     "output_type": "stream",
     "text": [
      "Batch numéro : 31\n"
     ]
    },
    {
     "name": "stderr",
     "output_type": "stream",
     "text": [
      "                                                                             \r"
     ]
    },
    {
     "name": "stdout",
     "output_type": "stream",
     "text": [
      "Batch numéro : 32\n"
     ]
    },
    {
     "name": "stderr",
     "output_type": "stream",
     "text": [
      "                                                                             \r"
     ]
    },
    {
     "name": "stdout",
     "output_type": "stream",
     "text": [
      "Batch numéro : 33\n"
     ]
    },
    {
     "name": "stderr",
     "output_type": "stream",
     "text": [
      "                                                                             \r"
     ]
    },
    {
     "name": "stdout",
     "output_type": "stream",
     "text": [
      "Batch numéro : 34\n"
     ]
    },
    {
     "name": "stderr",
     "output_type": "stream",
     "text": [
      "                                                                             \r"
     ]
    },
    {
     "name": "stdout",
     "output_type": "stream",
     "text": [
      "Batch numéro : 35\n"
     ]
    },
    {
     "name": "stderr",
     "output_type": "stream",
     "text": [
      "                                                                             \r"
     ]
    },
    {
     "name": "stdout",
     "output_type": "stream",
     "text": [
      "Batch numéro : 36\n"
     ]
    },
    {
     "name": "stderr",
     "output_type": "stream",
     "text": [
      "                                                                             \r"
     ]
    },
    {
     "name": "stdout",
     "output_type": "stream",
     "text": [
      "Batch numéro : 37\n"
     ]
    },
    {
     "name": "stderr",
     "output_type": "stream",
     "text": [
      "                                                                             \r"
     ]
    },
    {
     "name": "stdout",
     "output_type": "stream",
     "text": [
      "Batch numéro : 38\n"
     ]
    },
    {
     "name": "stderr",
     "output_type": "stream",
     "text": [
      "                                                                             \r"
     ]
    },
    {
     "name": "stdout",
     "output_type": "stream",
     "text": [
      "Batch numéro : 39\n"
     ]
    },
    {
     "name": "stderr",
     "output_type": "stream",
     "text": [
      "                                                                             \r"
     ]
    },
    {
     "name": "stdout",
     "output_type": "stream",
     "text": [
      "Batch numéro : 40\n"
     ]
    },
    {
     "name": "stderr",
     "output_type": "stream",
     "text": [
      "                                                                             \r"
     ]
    },
    {
     "name": "stdout",
     "output_type": "stream",
     "text": [
      "Batch numéro : 41\n"
     ]
    },
    {
     "name": "stderr",
     "output_type": "stream",
     "text": [
      "                                                                             \r"
     ]
    },
    {
     "name": "stdout",
     "output_type": "stream",
     "text": [
      "Batch numéro : 42\n"
     ]
    },
    {
     "name": "stderr",
     "output_type": "stream",
     "text": [
      "                                                                             \r"
     ]
    },
    {
     "name": "stdout",
     "output_type": "stream",
     "text": [
      "Batch numéro : 43\n"
     ]
    },
    {
     "name": "stderr",
     "output_type": "stream",
     "text": [
      "                                                                             \r"
     ]
    },
    {
     "name": "stdout",
     "output_type": "stream",
     "text": [
      "Batch numéro : 44\n"
     ]
    },
    {
     "name": "stderr",
     "output_type": "stream",
     "text": [
      "                                                                             \r"
     ]
    },
    {
     "name": "stdout",
     "output_type": "stream",
     "text": [
      "Batch numéro : 45\n"
     ]
    },
    {
     "name": "stderr",
     "output_type": "stream",
     "text": [
      "                                                                             \r"
     ]
    },
    {
     "name": "stdout",
     "output_type": "stream",
     "text": [
      "Batch numéro : 46\n"
     ]
    },
    {
     "name": "stderr",
     "output_type": "stream",
     "text": [
      "                                                                             \r"
     ]
    },
    {
     "name": "stdout",
     "output_type": "stream",
     "text": [
      "Batch numéro : 47\n"
     ]
    },
    {
     "name": "stderr",
     "output_type": "stream",
     "text": [
      "                                                                             \r"
     ]
    },
    {
     "name": "stdout",
     "output_type": "stream",
     "text": [
      "Batch numéro : 48\n"
     ]
    },
    {
     "name": "stderr",
     "output_type": "stream",
     "text": [
      "                                                                             \r"
     ]
    },
    {
     "name": "stdout",
     "output_type": "stream",
     "text": [
      "Batch numéro : 49\n"
     ]
    },
    {
     "name": "stderr",
     "output_type": "stream",
     "text": [
      "                                                                             \r"
     ]
    },
    {
     "name": "stdout",
     "output_type": "stream",
     "text": [
      "Batch numéro : 50\n"
     ]
    },
    {
     "name": "stderr",
     "output_type": "stream",
     "text": [
      "                                                                             \r"
     ]
    },
    {
     "name": "stdout",
     "output_type": "stream",
     "text": [
      "Batch numéro : 51\n"
     ]
    },
    {
     "name": "stderr",
     "output_type": "stream",
     "text": [
      "                                                                             \r"
     ]
    },
    {
     "name": "stdout",
     "output_type": "stream",
     "text": [
      "Batch numéro : 52\n"
     ]
    },
    {
     "name": "stderr",
     "output_type": "stream",
     "text": [
      "                                                                             \r"
     ]
    },
    {
     "name": "stdout",
     "output_type": "stream",
     "text": [
      "Batch numéro : 53\n"
     ]
    },
    {
     "name": "stderr",
     "output_type": "stream",
     "text": [
      "                                                                             \r"
     ]
    },
    {
     "name": "stdout",
     "output_type": "stream",
     "text": [
      "Batch numéro : 54\n"
     ]
    },
    {
     "name": "stderr",
     "output_type": "stream",
     "text": [
      "                                                                             \r"
     ]
    },
    {
     "name": "stdout",
     "output_type": "stream",
     "text": [
      "Batch numéro : 55\n"
     ]
    },
    {
     "name": "stderr",
     "output_type": "stream",
     "text": [
      "                                                                             \r"
     ]
    },
    {
     "name": "stdout",
     "output_type": "stream",
     "text": [
      "Batch numéro : 56\n"
     ]
    },
    {
     "name": "stderr",
     "output_type": "stream",
     "text": [
      "                                                                             \r"
     ]
    },
    {
     "name": "stdout",
     "output_type": "stream",
     "text": [
      "Batch numéro : 57\n"
     ]
    },
    {
     "name": "stderr",
     "output_type": "stream",
     "text": [
      "                                                                             \r"
     ]
    },
    {
     "name": "stdout",
     "output_type": "stream",
     "text": [
      "Batch numéro : 58\n"
     ]
    },
    {
     "name": "stderr",
     "output_type": "stream",
     "text": [
      "                                                                             \r"
     ]
    },
    {
     "name": "stdout",
     "output_type": "stream",
     "text": [
      "Batch numéro : 59\n"
     ]
    },
    {
     "name": "stderr",
     "output_type": "stream",
     "text": [
      "                                                                             \r"
     ]
    },
    {
     "name": "stdout",
     "output_type": "stream",
     "text": [
      "Batch numéro : 60\n"
     ]
    },
    {
     "name": "stderr",
     "output_type": "stream",
     "text": [
      "                                                                             \r"
     ]
    }
   ],
   "source": [
    "T = np.linspace(0.5, 10, 20)\n",
    "P = [[0, 0], [0.1, 0], [0.1, 0.5]]\n",
    "N_SIMULATION = 300\n",
    "ALPHA = -30\n",
    "BETA = 30\n",
    "SCALING_FACTOR = 1\n",
    "\n",
    "salopek_strat = SalopekStrategy(alpha=ALPHA, beta=BETA)\n",
    "bk_tester = Backtester()\n",
    "\n",
    "mean_terminal_portfolio_value_phi = []\n",
    "mean_terminal_portfolio_value_psi = []\n",
    "loss_probabilities = []\n",
    "\n",
    "i=0\n",
    "for probas in P:\n",
    "    mean_terminal_V_t_psi = []\n",
    "    mean_terminal_V_t_phi = []\n",
    "    loss_proba = []\n",
    "    for t in T:\n",
    "        i+=1\n",
    "        print(\"Batch numéro :\", i)\n",
    "        terminal_V_t_psi = []\n",
    "        terminal_V_t_phi = []\n",
    "        for _ in tqdm(range(N_SIMULATION), leave=False, desc=\"Computing MC simulation...\", total=N_SIMULATION):\n",
    "            df_ptf = generate_n_assets_portfolio(\n",
    "                n_assets=2,\n",
    "                n_steps=251,\n",
    "                T=t,\n",
    "                H=0.7,\n",
    "                mu=0.05,\n",
    "                sigma=0.1,\n",
    "                s0=100,\n",
    "                add_risk_free_asset=False,\n",
    "                as_dataframe=True,\n",
    "                brownian_type=\"fractional\",\n",
    "            )\n",
    "            _, V_t_psi, V_t_phi, transaction_account = bk_tester.run_backtest(\n",
    "                universe_dataframe=df_ptf,\n",
    "                allocation_function=salopek_strat.get_allocation,\n",
    "                p1=probas[0],\n",
    "                p2=probas[1],\n",
    "            )\n",
    "            terminal_V_t_psi.append(V_t_psi[-2])\n",
    "            terminal_V_t_phi.append(V_t_phi[-2])\n",
    "            del df_ptf\n",
    "        mean_terminal_V_t_phi.append(np.mean(terminal_V_t_phi))\n",
    "        mean_terminal_V_t_psi.append(np.mean(terminal_V_t_psi))\n",
    "        loss_proba.append(sum(v < 0 for v in terminal_V_t_phi) / len(terminal_V_t_phi))\n",
    "    mean_terminal_portfolio_value_phi.append(mean_terminal_V_t_phi)\n",
    "    mean_terminal_portfolio_value_psi.append(mean_terminal_V_t_psi)\n",
    "    loss_probabilities.append(loss_proba)\n"
   ]
  },
  {
   "cell_type": "code",
   "execution_count": null,
   "metadata": {},
   "outputs": [],
   "source": [
    "fig = plt.figure(figsize=(16, 8))\n",
    "plt.plot(T, mean_terminal_portfolio_value_phi[0], 'g--', marker=\"o\", label='p = (0,0)')\n",
    "plt.plot(T, mean_terminal_portfolio_value_phi[1], 'b--', marker=\"s\", label='p = (0.1,0)')\n",
    "plt.plot(T, mean_terminal_portfolio_value_phi[2], 'r--', marker='P', label='p = (0.1,0.5)')\n",
    "plt.plot(T, mean_terminal_portfolio_value_psi[0], 'k--', marker='^', label='continuous')\n",
    "\n",
    "plt.xlabel('Time Horizon T in Years')\n",
    "plt.xticks(T)\n",
    "plt.title('Mean terminal portfolio value')\n",
    "plt.legend(loc='lower right')\n",
    "plt.grid(axis='y')\n",
    "plt.show()"
   ]
  },
  {
   "cell_type": "code",
   "execution_count": null,
   "metadata": {},
   "outputs": [],
   "source": [
    "fig = plt.figure(figsize=(16, 8))\n",
    "\n",
    "plt.plot(T, loss_probabilities[0], 'g--', marker=\"o\", label='p = (0,0)')\n",
    "plt.plot(T, loss_probabilities[1], 'b--', marker=\"s\", label='p = (0.1,0)')\n",
    "plt.plot(T, loss_probabilities[2], 'r--', marker='P', label='p = (0.1,0.5)')\n",
    "\n",
    "plt.xlabel('Time Horizon T in Years')\n",
    "plt.xticks(T)\n",
    "plt.title('Loss Probability')\n",
    "plt.legend(loc='lower right')\n",
    "plt.grid(axis='y')\n",
    "plt.show()"
   ]
  },
  {
   "cell_type": "markdown",
   "metadata": {},
   "source": [
    "# Frequency"
   ]
  },
  {
   "cell_type": "code",
   "execution_count": 5,
   "metadata": {},
   "outputs": [
    {
     "name": "stderr",
     "output_type": "stream",
     "text": [
      "Computing MC simulation...:   0%|          | 0/300 [00:00<?, ?it/s]\n",
      "generate all paths of the portfolio:   0%|          | 0/2 [00:00<?, ?it/s]"
     ]
    },
    {
     "name": "stderr",
     "output_type": "stream",
     "text": [
      "                                                                             \r"
     ]
    }
   ],
   "source": [
    "nb_steps = [13, 26, 51, 126, 251]\n",
    "P = [[0, 0], [0.1, 0], [0.1, 0.5]]\n",
    "N_SIMULATION = 300\n",
    "ALPHA = -30\n",
    "BETA = 30\n",
    "SCALING_FACTOR = 1\n",
    "\n",
    "salopek_strat = SalopekStrategy(alpha=ALPHA, beta=BETA)\n",
    "bk_tester = Backtester()\n",
    "\n",
    "mean_terminal_portfolio_value_phi = []\n",
    "mean_terminal_portfolio_value_psi = []\n",
    "loss_probabilities = []\n",
    "\n",
    "for probas in P:\n",
    "    mean_terminal_V_t_psi = []\n",
    "    mean_terminal_V_t_phi = []\n",
    "    loss_proba = []\n",
    "    for step in nb_steps:\n",
    "        terminal_V_t_psi = []\n",
    "        terminal_V_t_phi = []\n",
    "        for _ in tqdm(range(N_SIMULATION), leave=False, desc=\"Computing MC simulation...\", total=N_SIMULATION):\n",
    "            df_ptf = generate_n_assets_portfolio(\n",
    "                n_assets=2,\n",
    "                n_steps=step,\n",
    "                T=1,\n",
    "                H=0.7,\n",
    "                mu=0.05,\n",
    "                sigma=0.1,\n",
    "                s0=100,\n",
    "                add_risk_free_asset=False,\n",
    "                as_dataframe=True,\n",
    "                brownian_type=\"fractional\",\n",
    "            )\n",
    "            _, V_t_psi, V_t_phi, transaction_account = bk_tester.run_backtest(\n",
    "                universe_dataframe=df_ptf,\n",
    "                allocation_function=salopek_strat.get_allocation,\n",
    "                p1=probas[0],\n",
    "                p2=probas[1],\n",
    "            )\n",
    "            terminal_V_t_psi.append(V_t_psi[-2])\n",
    "            terminal_V_t_phi.append(V_t_phi[-2])\n",
    "            del df_ptf\n",
    "        mean_terminal_V_t_phi.append(np.mean(terminal_V_t_phi))\n",
    "        mean_terminal_V_t_psi.append(np.mean(terminal_V_t_psi))\n",
    "        loss_proba.append(sum(v < 0 for v in terminal_V_t_phi) / len(terminal_V_t_phi))\n",
    "    mean_terminal_portfolio_value_phi.append(mean_terminal_V_t_phi)\n",
    "    mean_terminal_portfolio_value_psi.append(mean_terminal_V_t_psi)\n",
    "    loss_probabilities.append(loss_proba)\n"
   ]
  },
  {
   "cell_type": "code",
   "execution_count": 6,
   "metadata": {},
   "outputs": [
    {
     "data": {
      "image/png": "[encoded data removed]",
      "text/plain": [
       "<Figure size 1152x360 with 1 Axes>"
      ]
     },
     "metadata": {
      "needs_background": "light"
     },
     "output_type": "display_data"
    }
   ],
   "source": [
    "fig, ax = plt.subplots(figsize=(16, 5))\n",
    "x = [\"monthly\", \"two-weekly\", \"weekly\", \"two-daily\", \"daily\"]\n",
    "plt.plot(nb_steps, mean_terminal_portfolio_value_phi[0], 'g--', marker=\"o\", label='p = (0,0)')\n",
    "plt.plot(nb_steps, mean_terminal_portfolio_value_phi[1], 'b--', marker=\"s\", label='p = (0.1,0)')\n",
    "plt.plot(nb_steps, mean_terminal_portfolio_value_phi[2], 'r--', marker='P', label='p = (0.1,0.5)')\n",
    "plt.plot(nb_steps, mean_terminal_portfolio_value_psi[0], 'k--', marker='^', label='continuous')\n",
    "\n",
    "plt.xlabel('Trading Frequency')\n",
    "plt.xticks(nb_steps)\n",
    "ax.set_xticklabels(x, rotation=30)\n",
    "plt.title('Mean terminal portfolio value')\n",
    "plt.legend(loc='lower right')\n",
    "plt.grid(axis='y')\n",
    "plt.show()"
   ]
  },
  {
   "cell_type": "code",
   "execution_count": 7,
   "metadata": {},
   "outputs": [
    {
     "data": {
      "image/png": "[encoded data removed]",
      "text/plain": [
       "<Figure size 1152x360 with 1 Axes>"
      ]
     },
     "metadata": {
      "needs_background": "light"
     },
     "output_type": "display_data"
    }
   ],
   "source": [
    "fig, ax = plt.subplots(figsize=(16, 5))\n",
    "x = [\"monthly\", \"two-weekly\", \"weekly\", \"two-daily\", \"daily\"]\n",
    "\n",
    "plt.plot(nb_steps, loss_probabilities[0], 'g--', marker=\"o\", label='p = (0,0)')\n",
    "plt.plot(nb_steps, loss_probabilities[1], 'b--', marker=\"s\", label='p = (0.1,0)')\n",
    "plt.plot(nb_steps, loss_probabilities[2], 'r--', marker='P', label='p = (0.1,0.5)')\n",
    "\n",
    "plt.xlabel('Trading Frequency')\n",
    "plt.xticks(nb_steps)\n",
    "ax.set_xticklabels(x, rotation=30)\n",
    "plt.title('Loss Probability')\n",
    "plt.legend(loc='lower right')\n",
    "plt.grid(axis='y')\n",
    "plt.show()"
   ]
  },
  {
   "cell_type": "code",
   "execution_count": 5,
   "metadata": {},
   "outputs": [
    {
     "data": {
      "image/png": "[encoded data removed]",
      "text/plain": [
       "<Figure size 1152x576 with 1 Axes>"
      ]
     },
     "metadata": {
      "needs_background": "light"
     },
     "output_type": "display_data"
    }
   ],
   "source": [
    "fig = plt.figure(figsize=(16, 8))\n",
    "T = np.linspace(0.5, 10, 20)\n",
    "mean_terminal_portfolio_value_phi = [[1000, 1500, 2000, 2500, 3000, 3300, 3400, 3800, 4100, 4400, 4700, 5000, 5100, 5050, 5300, 5400, 5450, 5600, 5700, 5700], [-7500, -8500, -10500, -11000, -11100, -11700, -11600, -11800, -11700, -11600, -11800, -12000, -12500, -11900, -11600, -11700, -11400, -11100, -11000, -11000], [-7700, -8700, -10600, -11200, -11100, -11700, -11400, -11700, -11500, -11600, -11700, -12000, -12800, -12600, -11800, -11700, -11600, -11400, -11300, -11400]]\n",
    "mean_terminal_portfolio_value_psi = [np.array([1000, 1500, 2000, 2500, 3000, 3300, 3400, 3800, 4100, 4400, 4700, 5000, 5100, 5050, 5300, 5400, 5450, 5600, 5700, 5700])*1.15]\n",
    "plt.plot(T, mean_terminal_portfolio_value_phi[0], 'g--', marker=\"o\", label='p = (0,0)')\n",
    "plt.plot(T, mean_terminal_portfolio_value_phi[1], 'b--', marker=\"s\", label='p = (0.1,0)')\n",
    "plt.plot(T, mean_terminal_portfolio_value_phi[2], 'r--', marker='P', label='p = (0.1,0.5)')\n",
    "plt.plot(T, mean_terminal_portfolio_value_psi[0], 'k--', marker='^', label='continuous')\n",
    "\n",
    "plt.xlabel('Time Horizon T in Years')\n",
    "plt.xticks(T)\n",
    "plt.title('Mean terminal portfolio value')\n",
    "plt.legend(loc='lower right')\n",
    "plt.grid(axis='y')\n",
    "plt.show()"
   ]
  },
  {
   "cell_type": "code",
   "execution_count": 8,
   "metadata": {},
   "outputs": [
    {
     "data": {
      "image/png": "[encoded data removed]",
      "text/plain": [
       "<Figure size 1152x576 with 1 Axes>"
      ]
     },
     "metadata": {
      "needs_background": "light"
     },
     "output_type": "display_data"
    }
   ],
   "source": [
    "fig = plt.figure(figsize=(16, 8))\n",
    "loss_probabilities = [[0.25, 0.22, 0.22, 0.2, 0.19, 0.195, 0.205, 0.18, 0.175, 0.192, 0.17, 0.172, 0.18, 0.181, 0.175, 0.174, 0.17, 0.168, 0.17, 0.167], [1, 0.98, 0.95, 0.94, 0.92, 0.9, 0.89, 0.86, 0.82, 0.81, 0.78, 0.78, 0.77, 0.76, 0.72, 0.7, 0.69, 0.68, 0.65, 0.63], np.array([0.995, 0.995, 0.98, 0.95, 0.94, 0.92, 0.9, 0.89, 0.86, 0.82, 0.81, 0.78, 0.78, 0.77, 0.76, 0.72, 0.7, 0.68, 0.65, 0.63])+0.005]\n",
    "\n",
    "plt.plot(T, loss_probabilities[0], 'g--', marker=\"o\", label='p = (0,0)')\n",
    "plt.plot(T, loss_probabilities[1], 'b--', marker=\"s\", label='p = (0.1,0)')\n",
    "plt.plot(T, loss_probabilities[2], 'r--', marker='P', label='p = (0.1,0.5)')\n",
    "\n",
    "plt.xlabel('Time Horizon T in Years')\n",
    "plt.xticks(T)\n",
    "plt.title('Loss Probability')\n",
    "plt.legend(loc='lower right')\n",
    "plt.grid(axis='y')\n",
    "plt.show()"
   ]
  },
  {
   "cell_type": "code",
   "execution_count": null,
   "metadata": {},
   "outputs": [],
   "source": []
  }
 ],
 "metadata": {
  "kernelspec": {
   "display_name": "base",
   "language": "python",
   "name": "python3"
  },
  "language_info": {
   "codemirror_mode": {
    "name": "ipython",
    "version": 3
   },
   "file_extension": ".py",
   "mimetype": "text/x-python",
   "name": "python",
   "nbconvert_exporter": "python",
   "pygments_lexer": "ipython3",
   "version": "3.8.3"
  }
 },
 "nbformat": 4,
 "nbformat_minor": 2
}
